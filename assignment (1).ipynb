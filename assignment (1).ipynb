{
 "cells": [
  {
   "cell_type": "markdown",
   "id": "ef75a449-8851-4b53-b947-65e63d8c97d5",
   "metadata": {},
   "source": [
    "A1) s1 = \"'\" we store it within quotes. example below"
   ]
  },
  {
   "cell_type": "code",
   "execution_count": 43,
   "id": "009f6b59-6b80-426a-a3b9-d2613755ccc0",
   "metadata": {},
   "outputs": [],
   "source": [
    "s1 = \"'\""
   ]
  },
  {
   "cell_type": "code",
   "execution_count": 44,
   "id": "379f0ee9-afc8-4d0f-9959-c9495f8ce177",
   "metadata": {},
   "outputs": [
    {
     "data": {
      "text/plain": [
       "str"
      ]
     },
     "execution_count": 44,
     "metadata": {},
     "output_type": "execute_result"
    }
   ],
   "source": [
    "type(s1)"
   ]
  },
  {
   "cell_type": "markdown",
   "id": "3e5ece19-9c70-4639-8fe7-6b428424ff0d",
   "metadata": {},
   "source": [
    "A2) x = 'a' here x is assignied to a single chracter, so it is a characer type variable"
   ]
  },
  {
   "cell_type": "markdown",
   "id": "9bf65229-6daf-482d-9cd4-9e62fde22ddf",
   "metadata": {},
   "source": [
    "A3) below"
   ]
  },
  {
   "cell_type": "markdown",
   "id": "558535f4-76ea-4d3e-8264-42fddb4f02db",
   "metadata": {},
   "source": [
    "1.find()"
   ]
  },
  {
   "cell_type": "code",
   "execution_count": 1,
   "id": "229629a2-7828-4501-8d2f-25e02eed0f0d",
   "metadata": {},
   "outputs": [],
   "source": [
    "s1= \"Welcome to Python foundation course\""
   ]
  },
  {
   "cell_type": "code",
   "execution_count": 4,
   "id": "a4109cf0-6e51-48f3-8df4-78dfb743bbda",
   "metadata": {},
   "outputs": [
    {
     "data": {
      "text/plain": [
       "8"
      ]
     },
     "execution_count": 4,
     "metadata": {},
     "output_type": "execute_result"
    }
   ],
   "source": [
    "s1.find('to')"
   ]
  },
  {
   "cell_type": "markdown",
   "id": "f4e98e81-1651-4ddf-8dfc-c79a0154fe83",
   "metadata": {},
   "source": [
    "2.count()"
   ]
  },
  {
   "cell_type": "code",
   "execution_count": 5,
   "id": "2d301c91-bf49-4fc0-b31e-2ceac8be826a",
   "metadata": {},
   "outputs": [
    {
     "data": {
      "text/plain": [
       "1"
      ]
     },
     "execution_count": 5,
     "metadata": {},
     "output_type": "execute_result"
    }
   ],
   "source": [
    "s1.count('to')"
   ]
  },
  {
   "cell_type": "markdown",
   "id": "0a2225c0-e6d3-42af-b273-fe454c30a44e",
   "metadata": {},
   "source": [
    "3.len()"
   ]
  },
  {
   "cell_type": "code",
   "execution_count": 7,
   "id": "fa5264dc-fe9a-437d-8cb0-96f56e6387c7",
   "metadata": {},
   "outputs": [
    {
     "data": {
      "text/plain": [
       "35"
      ]
     },
     "execution_count": 7,
     "metadata": {},
     "output_type": "execute_result"
    }
   ],
   "source": [
    "len(s1)"
   ]
  },
  {
   "cell_type": "markdown",
   "id": "2bf7b166-8d5b-40a3-9fb6-9140756111a8",
   "metadata": {},
   "source": [
    "4.concatenation"
   ]
  },
  {
   "cell_type": "code",
   "execution_count": 8,
   "id": "a97d35f7-2233-457b-85b7-146e762ef607",
   "metadata": {},
   "outputs": [],
   "source": [
    "s2 =\"hello\""
   ]
  },
  {
   "cell_type": "code",
   "execution_count": 9,
   "id": "4650db0b-a167-4b1b-af61-552d941604d7",
   "metadata": {},
   "outputs": [],
   "source": [
    "s1 = s1+s2 "
   ]
  },
  {
   "cell_type": "code",
   "execution_count": 10,
   "id": "82149dd3-51e0-492e-8343-32febcbd0528",
   "metadata": {},
   "outputs": [
    {
     "data": {
      "text/plain": [
       "'Welcome to Python foundation coursehello'"
      ]
     },
     "execution_count": 10,
     "metadata": {},
     "output_type": "execute_result"
    }
   ],
   "source": [
    "s1"
   ]
  },
  {
   "cell_type": "markdown",
   "id": "2d7e699d-1f0b-4646-bab7-bc1668d8cd89",
   "metadata": {},
   "source": [
    "A4) "
   ]
  },
  {
   "cell_type": "code",
   "execution_count": 12,
   "id": "be781afd-eb4e-44a7-8eaa-1401ba662a83",
   "metadata": {},
   "outputs": [],
   "source": [
    "word='PanaJi@12256'"
   ]
  },
  {
   "cell_type": "code",
   "execution_count": 17,
   "id": "994c35cd-a0c2-48cf-a8c2-6dcf46e271da",
   "metadata": {},
   "outputs": [
    {
     "name": "stdout",
     "output_type": "stream",
     "text": [
      "4\n"
     ]
    }
   ],
   "source": [
    "count=0\n",
    "for i in word:\n",
    "    if(i.islower()):\n",
    "        count=count+1\n",
    "print(count)"
   ]
  },
  {
   "cell_type": "code",
   "execution_count": 19,
   "id": "a55f2e43-06fe-4eca-af49-206336d1a825",
   "metadata": {},
   "outputs": [
    {
     "name": "stdout",
     "output_type": "stream",
     "text": [
      "2\n"
     ]
    }
   ],
   "source": [
    "count=0\n",
    "for i in word:\n",
    "    if(i.isupper()):\n",
    "        count=count+1\n",
    "print(count)"
   ]
  },
  {
   "cell_type": "code",
   "execution_count": 21,
   "id": "d0b24e43-5079-43b4-b476-9507d96dd5cd",
   "metadata": {},
   "outputs": [
    {
     "name": "stdout",
     "output_type": "stream",
     "text": [
      "5\n"
     ]
    }
   ],
   "source": [
    "count=0\n",
    "for i in word:\n",
    "    if(i.isdigit()):\n",
    "        count=count+1\n",
    "print(count)"
   ]
  },
  {
   "cell_type": "code",
   "execution_count": 42,
   "id": "f80712aa-84db-4f59-89c2-7f3c1d02e797",
   "metadata": {},
   "outputs": [
    {
     "name": "stdout",
     "output_type": "stream",
     "text": [
      "integer to be converted: <class 'int'>\n",
      "5\n",
      "converted integer: <class 'str'>\n",
      "5\n"
     ]
    }
   ],
   "source": [
    "s=5\n",
    "print(\"integer to be converted:\" , type(s))\n",
    "print(s)\n",
    "word=str(s)\n",
    "print(\"converted integer:\" , type(word))\n",
    "print(word)"
   ]
  }
 ],
 "metadata": {
  "kernelspec": {
   "display_name": "Python 3 (ipykernel)",
   "language": "python",
   "name": "python3"
  },
  "language_info": {
   "codemirror_mode": {
    "name": "ipython",
    "version": 3
   },
   "file_extension": ".py",
   "mimetype": "text/x-python",
   "name": "python",
   "nbconvert_exporter": "python",
   "pygments_lexer": "ipython3",
   "version": "3.10.8"
  }
 },
 "nbformat": 4,
 "nbformat_minor": 5
}
